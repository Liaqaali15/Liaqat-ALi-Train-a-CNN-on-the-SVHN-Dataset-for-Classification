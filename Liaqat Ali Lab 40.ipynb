{
 "cells": [
  {
   "cell_type": "code",
   "execution_count": 74,
   "id": "4f6e0339-71e2-43f5-98c1-d6bccbc89acf",
   "metadata": {},
   "outputs": [],
   "source": [
    "import warnings"
   ]
  },
  {
   "cell_type": "markdown",
   "id": "5bd85892-08dc-4ba6-ac67-d5a174bc98b6",
   "metadata": {},
   "source": [
    "1. import warnings: \n",
    "\n",
    "- This line imports Python’s warnings module. \n",
    "- The warnings module helps manage warning messages that may appear during code execution.\n",
    "- Instead of stopping the program, warnings notify users of potential issues.\n",
    "- This can include deprecated features, resource usage, or minor errors.\n",
    "- It’s useful for debugging or improving code without interrupting execution."
   ]
  },
  {
   "cell_type": "code",
   "execution_count": 75,
   "id": "68835050-c56d-4790-93a2-338147f0c2b4",
   "metadata": {},
   "outputs": [],
   "source": [
    "import os"
   ]
  },
  {
   "cell_type": "markdown",
   "id": "40d7bb75-19d0-41e6-8f14-fdcdb128205c",
   "metadata": {},
   "source": [
    "This line imports Python’s built-in os module.\n",
    "The os module provides functions for interacting with the operating system.\n",
    "It allows us to handle files, directories, and system paths.\n",
    "Using os, we can read or write files, create directories, and navigate file structures.\n",
    "It’s essential for tasks that need to interact with the system’s file structure."
   ]
  },
  {
   "cell_type": "code",
   "execution_count": 76,
   "id": "3447313c-6bbf-4543-a411-e833e729775a",
   "metadata": {},
   "outputs": [],
   "source": [
    "import pandas as pd "
   ]
  },
  {
   "cell_type": "markdown",
   "id": "e08f410b-deb7-42e0-a772-fc1cd2240285",
   "metadata": {},
   "source": [
    "- This line imports the pandas library and gives it the alias pd.\n",
    "- pandas is a powerful library for data manipulation and analysis.\n",
    "- It allows handling of structured data using DataFrames and Series objects.\n",
    "- With pd, you can read, write, filter, and analyze data easily.\n"
   ]
  },
  {
   "cell_type": "raw",
   "id": "d5f09e07-bde4-4693-b9a8-367de33d59bf",
   "metadata": {},
   "source": [
    "import numpy as np"
   ]
  },
  {
   "cell_type": "markdown",
   "id": "4843bdb0-141e-4bfd-a5a7-ba6c962b5593",
   "metadata": {},
   "source": [
    "- This line imports the numpy library and gives it the alias np.\n",
    "- numpy is essential for numerical computations in Python.\n",
    "- It provides tools for working with arrays, matrices, and mathematical functions.\n",
    "- np enables efficient handling of large datasets and complex operations.\n",
    "- The shorthand (np) makes code more concise and widely recognized in data science."
   ]
  },
  {
   "cell_type": "code",
   "execution_count": 77,
   "id": "747569bf-0147-42e1-b1c5-b0a2cbb6c1b2",
   "metadata": {},
   "outputs": [],
   "source": [
    " import matplotlib.pyplot as plt\n",
    " %matplotlib inline"
   ]
  },
  {
   "cell_type": "markdown",
   "id": "57f6295d-ea0a-4dc7-b9bf-4a8b863b04dd",
   "metadata": {},
   "source": [
    "- The first line imports matplotlib.pyplot with the alias plt.\n",
    "- matplotlib.pyplot is a plotting library for creating graphs and visualizations.\n",
    "- plt provides functions for line plots, bar charts, histograms, etc.\n",
    "- The %matplotlib inline command is a Jupyter Notebook-specific “magic” command.\n",
    "- It ensures that plots display directly within the notebook for easy viewing."
   ]
  },
  {
   "cell_type": "code",
   "execution_count": 78,
   "id": "b2f67559-83b2-46f0-90af-03ea04607cbe",
   "metadata": {},
   "outputs": [],
   "source": [
    " from matplotlib import pyplot"
   ]
  },
  {
   "cell_type": "markdown",
   "id": "2a1399a8-20f1-48ce-86b2-c0ab07b1315a",
   "metadata": {},
   "source": [
    "7. from matplotlib import pyplot\n",
    "\n",
    "- This line imports the pyplot module directly from matplotlib.\n",
    "- pyplot provides functions for creating a variety of plots and visualizations.\n",
    "- It works similarly to matplotlib.pyplot but allows direct usage without the plt alias.\n",
    "- Each function in pyplot corresponds to a different type of plot component (e.g., plot(), show()).\n",
    "- This import style is less common but can be useful if plt aliasing isn’t needed."
   ]
  },
  {
   "cell_type": "code",
   "execution_count": 79,
   "id": "3b838b09-b76d-4cd6-909a-a4adec2ca8d1",
   "metadata": {},
   "outputs": [],
   "source": [
    "import seaborn as sns"
   ]
  },
  {
   "cell_type": "markdown",
   "id": "ea4db216-264a-44b4-9d2b-2db3e1d11a92",
   "metadata": {},
   "source": [
    "8. import seaborn as sns\n",
    "\n",
    "- This line imports the seaborn library with the alias sns.\n",
    "- seaborn is a data visualization library based on matplotlib.\n",
    "- It provides a high-level interface for creating attractive, informative statistical graphics.\n",
    "- sns offers functions for complex visualizations like heatmaps, .\n",
    "- The alias (sns) is standard and makes code involving seaborn more concise and readable."
   ]
  },
  {
   "cell_type": "code",
   "execution_count": 80,
   "id": "06a63556-6382-4138-8275-8e614c6b6446",
   "metadata": {},
   "outputs": [],
   "source": [
    "import tensorflow"
   ]
  },
  {
   "cell_type": "markdown",
   "id": "3e2145f3-4f6a-4fee-8d80-52065c656251",
   "metadata": {},
   "source": [
    "9. import tensorflow\n",
    "\n",
    "- This line imports the tensorflow library, an open-source framework for machine learning and deep learning.\n",
    "- tensorflow provides tools for building and training neural networks, including deep CNNs, RNNs, and more.\n",
    "- It supports both low-level operations (like tensors) and high-level APIs (like Keras) for model building.\n",
    "- The library is widely used for tasks like image recognition, natural language processing, and predictive analytics.\n",
    "- tensorflow enables deployment on various platforms, including mobile, servers, and cloud environments."
   ]
  },
  {
   "cell_type": "code",
   "execution_count": 81,
   "id": "a844816b-3a81-435c-b03f-ae75592b3673",
   "metadata": {},
   "outputs": [
    {
     "name": "stdout",
     "output_type": "stream",
     "text": [
      "2.17.0\n"
     ]
    }
   ],
   "source": [
    "print(tensorflow.__version__)"
   ]
  },
  {
   "cell_type": "markdown",
   "id": "1ff93dfb-a764-4100-bdf4-7d3a0cbff82a",
   "metadata": {},
   "source": [
    "print the version of tensorflow"
   ]
  },
  {
   "cell_type": "code",
   "execution_count": 82,
   "id": "309d08cc-226c-4287-9d99-4d51e21d6ac7",
   "metadata": {},
   "outputs": [],
   "source": [
    " warnings.filterwarnings('ignore')"
   ]
  },
  {
   "cell_type": "markdown",
   "id": "9cf117b1-41c2-486d-8747-4d66c5d25746",
   "metadata": {},
   "source": [
    "10. warnings.filterwarnings('ignore'):\n",
    "\n",
    "- This line configures the warnings module to suppress all warning messages.\n",
    "- By setting this filter to 'ignore', the program will not display warnings during execution.\n",
    "- This can be useful for cleaner output, especially when running code where warnings are expected.\n",
    "- However, ignoring warnings can lead to missing important alerts about potential issues.\n",
    "- It's often used in exploratory data analysis or during development to reduce clutter in the console."
   ]
  },
  {
   "cell_type": "code",
   "execution_count": 83,
   "id": "c88b0306-6a45-4107-8055-cf70ae6a3e6d",
   "metadata": {},
   "outputs": [],
   "source": [
    "pd.options.display.max_columns=None"
   ]
  },
  {
   "cell_type": "markdown",
   "id": "bc429136-ad06-466a-96de-5f12633ab615",
   "metadata": {},
   "source": [
    "11. pd.options.display.max_columns = None:\n",
    "\n",
    "- This line sets the maximum number of columns displayed in a pandas DataFrame to None.\n",
    "- By doing so, it allows all columns to be shown when printing a DataFrame, regardless of how many there are.\n",
    "- This is helpful for viewing wide DataFrames without truncation.\n",
    "- Adjusting display options improves data inspection and analysis in the console.\n",
    "- It enhances readability, especially when working with datasets that have many features."
   ]
  },
  {
   "cell_type": "code",
   "execution_count": 84,
   "id": "219091c5-4bbb-4715-95eb-a2ca09bb21d7",
   "metadata": {},
   "outputs": [],
   "source": [
    " pd.options.display.float_format='{:.7f}'.format"
   ]
  },
  {
   "cell_type": "markdown",
   "id": "9eda99db-4d54-4825-b627-ab34fe754c20",
   "metadata": {},
   "source": [
    "12. pd.options.display.float_format = '{:.7f}'.format:\n",
    "\n",
    "- This line sets the format for displaying floating-point numbers in pandas DataFrames.\n",
    "- By specifying '{:.7f}'.format, it configures pandas to show numbers with seven decimal places.\n",
    "- This is useful for maintaining consistency and precision in numerical outputs.\n",
    "- It improves readability when analyzing data with many decimal values.\n",
    "- Adjusting the float format can help in presentations or reports where specific precision is required."
   ]
  },
  {
   "cell_type": "code",
   "execution_count": 85,
   "id": "d34a63dc-17c2-4362-9f37-12a889821049",
   "metadata": {},
   "outputs": [],
   "source": [
    "pd.options.display.max_rows=None"
   ]
  },
  {
   "cell_type": "markdown",
   "id": "214ba73b-c480-4af3-b2e0-dc2de73dc23f",
   "metadata": {},
   "source": [
    "13. pd.options.display.max_rows = None:\n",
    "\n",
    "- This line sets the maximum number of rows displayed in a pandas DataFrame to None.\n",
    "- As a result, all rows will be shown when printing a DataFrame, regardless of the total count.\n",
    "- This is particularly useful for inspecting large datasets without truncation.\n",
    "- It enhances data visibility and allows thorough examination during analysis.\n",
    "- However, displaying too many rows can clutter the output, so use it judiciously."
   ]
  },
  {
   "cell_type": "code",
   "execution_count": 86,
   "id": "bc823f74-8adf-4d63-b796-84c5b8d03875",
   "metadata": {},
   "outputs": [],
   "source": [
    "import h5py"
   ]
  },
  {
   "cell_type": "markdown",
   "id": "1e815fc3-b3c4-4af0-b818-a4128bb2f7ad",
   "metadata": {},
   "source": [
    "14. import h5py:\n",
    "\n",
    "- This line imports the h5py library, which is used for handling HDF5 files in Python.\n",
    "- HDF5 (Hierarchical Data Format version 5) is a file format designed to store large amounts of data.\n",
    "- The h5py library provides an interface to read, write, and manipulate HDF5 files seamlessly.\n",
    "- It's commonly used in data science and machine learning for storing large datasets, including tensors and models.\n",
    "- By using h5py, you can efficiently manage data storage, allowing for quick access and retrieval."
   ]
  },
  {
   "cell_type": "code",
   "execution_count": 87,
   "id": "b0f0887f-6980-43e3-9588-030a4a2f923e",
   "metadata": {},
   "outputs": [],
   "source": [
    " h5f=h5py.File('Autonomous_Vehicles_SVHN_single_grey1.h5')"
   ]
  },
  {
   "cell_type": "markdown",
   "id": "87d7d581-5762-4ce9-8e01-1691d1ca0c0b",
   "metadata": {},
   "source": [
    "15. h5f = h5py.File('Autonomous_Vehicles_SVHN_single_grey1.h5'):\n",
    "- This line opens an HDF5 file named 'Autonomous_Vehicles_SVHN_single_grey1.h5' for reading and writing.\n",
    "- The h5py.File() function creates a file object (h5f) that allows interaction with the contents of the HDF5 file.\n",
    "- If the file exists, it loads the data; if not, it raises an error.\n",
    "- This file likely contains datasets related to autonomous vehicles, possibly images or labels.\n",
    "- Once opened, you can access datasets and metadata stored within the file using the h5f object."
   ]
  },
  {
   "cell_type": "code",
   "execution_count": 88,
   "id": "d53328ae-2714-462e-80af-a9f987a065eb",
   "metadata": {},
   "outputs": [
    {
     "data": {
      "text/plain": [
       "<KeysViewHDF5 ['X_test', 'X_train', 'X_val', 'y_test', 'y_train', 'y_val']>"
      ]
     },
     "execution_count": 88,
     "metadata": {},
     "output_type": "execute_result"
    }
   ],
   "source": [
    "h5f.keys()"
   ]
  },
  {
   "cell_type": "markdown",
   "id": "b3033de3-4841-4b6e-a84b-de300aadc4d6",
   "metadata": {},
   "source": [
    "This line retrieves the keys of the datasets stored in the opened HDF5 file (h5f).  \n",
    "The keys() method returns a list-like object containing the names of all top-level datasets or groups within the HDF5 file.  \n",
    "These keys represent the various datasets or collections of data stored in the file, allowing you to identify what information is available for further access or manipulation.  \n",
    "By examining these keys, you can determine the structure of the data and decide which datasets to load or analyze."
   ]
  },
  {
   "cell_type": "code",
   "execution_count": 89,
   "id": "d6d2fcd8-7e02-4447-a80c-ac35d8f042ee",
   "metadata": {},
   "outputs": [],
   "source": [
    "X_train=h5f['X_train'][:]"
   ]
  },
  {
   "cell_type": "markdown",
   "id": "6839581b-8c14-4e10-b91f-ab0ec8a57aca",
   "metadata": {},
   "source": [
    "This line retrieves the dataset named 'X_train' from the opened HDF5 file (h5f) and assigns it to the variable X_train.  \n",
    "The expression h5f['X_train'] accesses the specific dataset within the file, and the [:] syntax is used to load all the data from that dataset into memory.  \n",
    "X_train is likely to contain the training data, possibly images or features related to the autonomous vehicle dataset.  \n",
    "By storing it in the X_train variable, you can now manipulate or analyze this data in your program."
   ]
  },
  {
   "cell_type": "code",
   "execution_count": 90,
   "id": "b8a12e40-c828-4198-94a9-49d23b9e38c2",
   "metadata": {},
   "outputs": [],
   "source": [
    "y_train=h5f['y_train'][:]"
   ]
  },
  {
   "cell_type": "markdown",
   "id": "d2d40bf7-0b37-4a7a-bcf5-5d13ca9187d1",
   "metadata": {},
   "source": [
    "This line retrieves the dataset named 'y_train' from the opened HDF5 file (h5f) and assigns it to the variable y_train.  \n",
    "Similar to the previous line, h5f['y_train'] accesses the specific dataset within the file, and the [:] syntax is used to load all the data from that dataset into memory.  \n",
    "y_train is likely to contain the corresponding labels or targets for the training data, which are essential for supervised learning tasks.  \n",
    "By storing it in the y_train variable, you can use this label information in conjunction with X_train for training machine learning models."
   ]
  },
  {
   "cell_type": "code",
   "execution_count": 91,
   "id": "9cdf7019-820c-4932-82ef-112d455e4bd8",
   "metadata": {},
   "outputs": [],
   "source": [
    "X_test=h5f['X_test'][:]"
   ]
  },
  {
   "cell_type": "markdown",
   "id": "ff732969-e8fa-4371-b8e8-67c041dc1448",
   "metadata": {},
   "source": [
    "This line retrieves the dataset named 'X_test' from the opened HDF5 file (h5f) and assigns it to the variable X_test.  \n",
    "Just like in the previous lines, h5f['X_test'] accesses the specific dataset, and the [:] syntax loads all the data from that dataset into memory.  \n",
    "X_test is likely to contain the testing data, which may consist of images or features that will be used to evaluate the performance of a model after it has been trained.  \n",
    "By storing this data in the X_test variable, you can use it to assess how well your model generalizes to unseen data."
   ]
  },
  {
   "cell_type": "code",
   "execution_count": 92,
   "id": "84052e5c-6c61-42c9-a4f9-4f68a25e78cd",
   "metadata": {},
   "outputs": [],
   "source": [
    "y_test=h5f['y_test'][:]"
   ]
  },
  {
   "cell_type": "markdown",
   "id": "e5d14496-9471-4d9d-ac31-828846b408d7",
   "metadata": {},
   "source": [
    "This line retrieves the dataset named 'y_test' from the opened HDF5 file (h5f) and assigns it to the variable y_test.  \n",
    "As with the previous lines, h5f['y_test'] accesses the specific dataset, and the [:] syntax loads all the data from that dataset into memory.  \n",
    "y_test is likely to contain the labels or targets corresponding to the testing data, which are necessary for evaluating the model’s accuracy and performance on unseen data.  \n",
    "By storing this information in the y_test variable, you can compare the model's predictions against these true labels during the testing phase."
   ]
  },
  {
   "cell_type": "code",
   "execution_count": 93,
   "id": "ddb26964-32e1-4692-8e6a-9a8856ef7eed",
   "metadata": {},
   "outputs": [
    {
     "data": {
      "text/plain": [
       "(42000, 32, 32)"
      ]
     },
     "execution_count": 93,
     "metadata": {},
     "output_type": "execute_result"
    }
   ],
   "source": [
    "X_train.shape"
   ]
  },
  {
   "cell_type": "markdown",
   "id": "07a7586c-b4bd-4738-969f-e2f017885de6",
   "metadata": {},
   "source": [
    "This line retrieves the shape of the X_train array, which contains the training data.  \n",
    "The shape attribute returns a tuple representing the dimensions of the array. For example, if X_train contains images, the shape might indicate the number of images and their dimensions (e.g., number of samples, height, width, channels).  \n",
    "Understanding the shape of X_train is crucial for confirming that the data is formatted correctly for further processing or input into machine learning models. It helps ensure that the number of samples matches the expected input size for training."
   ]
  },
  {
   "cell_type": "code",
   "execution_count": 94,
   "id": "ab553ab0-9021-4931-97b3-2e3c251d27bd",
   "metadata": {},
   "outputs": [
    {
     "data": {
      "text/plain": [
       "(18000, 32, 32)"
      ]
     },
     "execution_count": 94,
     "metadata": {},
     "output_type": "execute_result"
    }
   ],
   "source": [
    "X_test.shape"
   ]
  },
  {
   "cell_type": "markdown",
   "id": "c1d92a4a-228f-4ee0-9f52-732ff1d9c4a1",
   "metadata": {},
   "source": [
    "This line retrieves the shape of the X_test array, which contains the testing data.  \n",
    "The shape attribute returns a tuple that indicates the dimensions of the array. For instance, if X_test consists of images, the shape may reflect the number of test images along with their respective dimensions (e.g., number of samples, height, width, channels).  \n",
    "Checking the shape of X_test is important to ensure that the test data is structured correctly and that it aligns with the input requirements of the model you plan to evaluate. This helps verify that the model can appropriately process the testing data."
   ]
  },
  {
   "cell_type": "code",
   "execution_count": 95,
   "id": "56916cd2-e5c0-4fb5-a4e7-650f7544faab",
   "metadata": {},
   "outputs": [
    {
     "data": {
      "text/plain": [
       "(42000,)"
      ]
     },
     "execution_count": 95,
     "metadata": {},
     "output_type": "execute_result"
    }
   ],
   "source": [
    "y_train.shape"
   ]
  },
  {
   "cell_type": "markdown",
   "id": "6bbce3ed-bafe-41a8-bed6-f1312a6190c0",
   "metadata": {},
   "source": [
    "This line retrieves the shape of the y_train array, which contains the labels or targets corresponding to the training data.  \n",
    "The shape attribute returns a tuple that indicates the dimensions of the array. For example, if y_train consists of labels for a classification task, its shape might reflect the number of training samples (e.g., the number of labels corresponding to the images in X_train).  \n",
    "Understanding the shape of y_train is essential for confirming that it matches the number of samples in X_train, ensuring that the labels are correctly associated with their corresponding data for training a machine learning model."
   ]
  },
  {
   "cell_type": "code",
   "execution_count": 96,
   "id": "62229219-d9af-4508-adbb-370dd4380977",
   "metadata": {},
   "outputs": [
    {
     "data": {
      "text/plain": [
       "(18000,)"
      ]
     },
     "execution_count": 96,
     "metadata": {},
     "output_type": "execute_result"
    }
   ],
   "source": [
    "y_test.shape"
   ]
  },
  {
   "cell_type": "markdown",
   "id": "34e75dbe-1dee-4ba3-b88b-0b307584a8c9",
   "metadata": {},
   "source": [
    "This line retrieves the shape of the y_test array, which contains the labels or targets corresponding to the testing data.  \n",
    "The shape attribute returns a tuple indicating the dimensions of the array. For instance, if y_test consists of labels for a classification task, its shape will typically reflect the number of test samples (i.e., the number of labels associated with the images in X_test).  \n",
    "Understanding the shape of y_test is crucial for confirming that it aligns with the number of samples in X_test, ensuring that the labels correspond correctly to the data used for evaluating the model's performance."
   ]
  },
  {
   "cell_type": "code",
   "execution_count": 97,
   "id": "a5a4d6f6-110b-4343-a534-ba4c45b4ae29",
   "metadata": {},
   "outputs": [],
   "source": [
    "def img_lab(n):\n",
    " plt.figure(figsize=(n,1))\n",
    " for i in range(n):\n",
    "  plt.subplot(1,n,i+1)\n",
    "  plt.imshow(X_train[i],cmap='gray')\n",
    "  plt.axis('off')\n",
    "  plt.show()\n",
    "  print('label for each of the above image:%s'%(y_train[0:n]))"
   ]
  },
  {
   "cell_type": "markdown",
   "id": "83803cf1-4d0f-40ac-99bb-6ea425615e90",
   "metadata": {},
   "source": [
    "This function, img_lab(n), is designed to display a specified number (n) of images from the X_train dataset along with their corresponding labels. \n",
    "\n",
    "1. plt.figure(figsize=(n, 1)): This line creates a new figure for the plot with a width of n inches and a height of 1 inch, allowing for a horizontal arrangement of images.\n",
    "\n",
    "2. for i in range(n): This loop iterates n times, enabling the display of n images.\n",
    "\n",
    "3. plt.subplot(1, n, i + 1): This line sets up a subplot grid with 1 row and n columns, positioning the current image in the i + 1 slot.\n",
    "\n",
    "4. plt.imshow(X_train[i], cmap='gray'): This line displays the i-th image from X_train using a grayscale colormap.\n",
    "\n",
    "5. plt.axis('off'): This line hides the axis ticks and labels for a cleaner display of the images.\n",
    "\n",
    "6. plt.show(): This line renders the images on the screen after the loop is completed.\n",
    "\n",
    "7. print('label for each of the above image: %s' % (y_train[0:n])): After displaying the images, this line prints the labels for the first n images, showing the corresponding labels from the y_train dataset.\n",
    "\n",
    "Overall, the function is useful for visualizing a batch of training images alongside their labels, making it easier to understand the data being used for training a machine learning model."
   ]
  },
  {
   "cell_type": "code",
   "execution_count": 98,
   "id": "0a29bf02-0e6d-4357-91ed-5f69038db301",
   "metadata": {},
   "outputs": [
    {
     "data": {
      "image/png": "[encoded data removed]",
      "text/plain": [
       "<Figure size 1000x100 with 1 Axes>"
      ]
     },
     "metadata": {},
     "output_type": "display_data"
    },
    {
     "name": "stdout",
     "output_type": "stream",
     "text": [
      "label for each of the above image:[2 6 7 4 4 0 3 0 7 3]\n"
     ]
    },
    {
     "data": {
      "image/png": "[encoded data removed]",
      "text/plain": [
       "<Figure size 640x480 with 1 Axes>"
      ]
     },
     "metadata": {},
     "output_type": "display_data"
    },
    {
     "name": "stdout",
     "output_type": "stream",
     "text": [
      "label for each of the above image:[2 6 7 4 4 0 3 0 7 3]\n"
     ]
    },
    {
     "data": {
      "image/png": "[encoded data removed]",
      "text/plain": [
       "<Figure size 640x480 with 1 Axes>"
      ]
     },
     "metadata": {},
     "output_type": "display_data"
    },
    {
     "name": "stdout",
     "output_type": "stream",
     "text": [
      "label for each of the above image:[2 6 7 4 4 0 3 0 7 3]\n"
     ]
    },
    {
     "data": {
      "image/png": "[encoded data removed]",
      "text/plain": [
       "<Figure size 640x480 with 1 Axes>"
      ]
     },
     "metadata": {},
     "output_type": "display_data"
    },
    {
     "name": "stdout",
     "output_type": "stream",
     "text": [
      "label for each of the above image:[2 6 7 4 4 0 3 0 7 3]\n"
     ]
    },
    {
     "data": {
      "image/png": "[encoded data removed]",
      "text/plain": [
       "<Figure size 640x480 with 1 Axes>"
      ]
     },
     "metadata": {},
     "output_type": "display_data"
    },
    {
     "name": "stdout",
     "output_type": "stream",
     "text": [
      "label for each of the above image:[2 6 7 4 4 0 3 0 7 3]\n"
     ]
    },
    {
     "data": {
      "image/png": "[encoded data removed]",
      "text/plain": [
       "<Figure size 640x480 with 1 Axes>"
      ]
     },
     "metadata": {},
     "output_type": "display_data"
    },
    {
     "name": "stdout",
     "output_type": "stream",
     "text": [
      "label for each of the above image:[2 6 7 4 4 0 3 0 7 3]\n"
     ]
    },
    {
     "data": {
      "image/png": "[encoded data removed]",
      "text/plain": [
       "<Figure size 640x480 with 1 Axes>"
      ]
     },
     "metadata": {},
     "output_type": "display_data"
    },
    {
     "name": "stdout",
     "output_type": "stream",
     "text": [
      "label for each of the above image:[2 6 7 4 4 0 3 0 7 3]\n"
     ]
    },
    {
     "data": {
      "image/png": "[encoded data removed]",
      "text/plain": [
       "<Figure size 640x480 with 1 Axes>"
      ]
     },
     "metadata": {},
     "output_type": "display_data"
    },
    {
     "name": "stdout",
     "output_type": "stream",
     "text": [
      "label for each of the above image:[2 6 7 4 4 0 3 0 7 3]\n"
     ]
    },
    {
     "data": {
      "image/png": "[encoded data removed]",
      "text/plain": [
       "<Figure size 640x480 with 1 Axes>"
      ]
     },
     "metadata": {},
     "output_type": "display_data"
    },
    {
     "name": "stdout",
     "output_type": "stream",
     "text": [
      "label for each of the above image:[2 6 7 4 4 0 3 0 7 3]\n"
     ]
    },
    {
     "data": {
      "image/png": "[encoded data removed]",
      "text/plain": [
       "<Figure size 640x480 with 1 Axes>"
      ]
     },
     "metadata": {},
     "output_type": "display_data"
    },
    {
     "name": "stdout",
     "output_type": "stream",
     "text": [
      "label for each of the above image:[2 6 7 4 4 0 3 0 7 3]\n"
     ]
    }
   ],
   "source": [
    "img_lab(10)"
   ]
  },
  {
   "cell_type": "markdown",
   "id": "769933ab-41bc-4529-966c-dc683b93a191",
   "metadata": {},
   "source": [
    "This line calls the function img_lab with an argument of 10, which instructs the function to display 10 images from the X_train dataset along with their corresponding labels.\n",
    "\n",
    "1. Image Display: The function will create a figure that arranges 10 images horizontally. Each image displayed corresponds to the first 10 entries in the X_train dataset.\n",
    "\n",
    "2. Labels Output: After displaying the images, the function will print the labels for these 10 images from the y_train dataset, providing a clear reference to the true classifications for each displayed image.\n",
    "\n",
    "This call is particularly useful for quickly visualizing a sample of training data and checking whether the images and their associated labels are correctly aligned."
   ]
  },
  {
   "cell_type": "code",
   "execution_count": 99,
   "id": "1fbdad14-9974-402b-a026-ac39d7048450",
   "metadata": {},
   "outputs": [
    {
     "data": {
      "text/plain": [
       "(42000, 32, 32)"
      ]
     },
     "execution_count": 99,
     "metadata": {},
     "output_type": "execute_result"
    }
   ],
   "source": [
    "X_train.shape"
   ]
  },
  {
   "cell_type": "markdown",
   "id": "dba64e8d-8c00-4c02-9e40-c5ec20ba2495",
   "metadata": {},
   "source": [
    "This line retrieves the shape of the X_train array, which contains the training data.  \n",
    "The shape attribute returns a tuple indicating the dimensions of the array. For example, if X_train contains images, the shape might specify the number of training samples and the dimensions of each image (e.g., number of samples, height, width, channels).  \n",
    "Understanding the shape of X_train is important to confirm that the data is structured correctly for further processing or input into machine learning models. It ensures that the number of samples aligns with what is expected for training."
   ]
  },
  {
   "cell_type": "code",
   "execution_count": 100,
   "id": "fc0f63cb-e3f1-4adc-93a1-bb7c065b35c6",
   "metadata": {},
   "outputs": [],
   "source": [
    "X_train=X_train.reshape(X_train.shape[0],1024,1)\n",
    "X_test=X_test.reshape(X_test.shape[0],1024,1)"
   ]
  },
  {
   "cell_type": "markdown",
   "id": "a8ef95b9-128a-402d-bf44-89bdca6d9eb7",
   "metadata": {},
   "source": [
    "These lines reshape the X_train and X_test arrays to prepare them for input into machine learning models.\n",
    "\n",
    "X_train.reshape(X_train.shape[0], 1024, 1):\n",
    "\n",
    "This line reshapes the X_train array.\n",
    "X_train.shape[0] represents the number of samples (images) in the training dataset.\n",
    "The new shape will be (number of samples, 1024, 1), where 1024 could represent the flattened pixel values of each image (assuming the original images were 32x32 pixels, which equals 1024) and 1 indicates a single channel (grayscale).\n",
    "This transformation is often necessary for models that expect input in a specific dimensional format.\n",
    "X_test.reshape(X_test.shape[0], 1024, 1):\n",
    "\n",
    "Similarly, this line reshapes the X_test array in the same manner.\n",
    "The shape will also be (number of samples, 1024, 1), ensuring that the test data has the same dimensions as the training data.\n",
    "Reshaping the arrays in this way standardizes the input format, making it compatible with many deep learning frameworks that require a specific input shape, especially when dealing with convolutional neural networks (CNNs) or other models expecting multi-dimensional data"
   ]
  },
  {
   "cell_type": "code",
   "execution_count": 101,
   "id": "817feb60-c2d4-4ece-8d89-de848ba8f615",
   "metadata": {},
   "outputs": [],
   "source": [
    "X_train=X_train/255.0\n",
    "X_test=X_test/255.0"
   ]
  },
  {
   "cell_type": "markdown",
   "id": "d613bdb6-40cd-4c00-91c6-540df348997e",
   "metadata": {},
   "source": [
    "1. X_train = X_train / 255.0:\n",
    "   - This line divides all pixel values in the X_train array by 255.0, which is the maximum value for pixel intensity in an 8-bit grayscale image. \n",
    "   - Normalization rescales the pixel values to a range between 0 and 1, making the data more suitable for training machine learning models. \n",
    "   - This helps improve the convergence speed and overall performance of algorithms like neural networks.\n",
    "\n",
    "2. X_test = X_test / 255.0:\n",
    "   - Similarly, this line normalizes the pixel values in the X_test array by dividing by 255.0.\n",
    "   - It ensures that the test data is scaled in the same way as the training data, which is essential for maintaining consistency in how the model interprets both datasets during evaluation."
   ]
  },
  {
   "cell_type": "code",
   "execution_count": 102,
   "id": "9b632882-35e8-48aa-8553-e02c7b1780e5",
   "metadata": {},
   "outputs": [
    {
     "name": "stdout",
     "output_type": "stream",
     "text": [
      "Resized Training set (42000, 1024, 1) (42000,)\n",
      "Resized Test set (18000, 1024, 1) (18000,)\n"
     ]
    }
   ],
   "source": [
    "print('Resized Training set',X_train.shape,y_train.shape)\n",
    "print('Resized Test set',X_test.shape,y_test.shape)"
   ]
  },
  {
   "cell_type": "markdown",
   "id": "72326ea2-7531-4f70-8c28-9b8e4c446aa6",
   "metadata": {},
   "source": [
    "1. print('Resized Training set', X_train.shape, y_train.shape):\n",
    "   - This line outputs the message \"Resized Training set\" followed by the shapes of the X_train and y_train arrays.\n",
    "   - X_train.shape provides the dimensions of the training data, indicating the number of training samples, the image size (e.g., height, width), and the number of channels.\n",
    "   - y_train.shape shows the dimensions of the labels, which typically indicates the number of labels corresponding to the training samples.\n",
    "   - This helps verify that the training data and labels are aligned correctly after resizing.\n",
    "\n",
    "2. print('Resized Test set', X_test.shape, y_test.shape):\n",
    "   - Similarly, this line outputs the message \"Resized Test set\" followed by the shapes of the X_test and y_test arrays.\n",
    "   - X_test.shape provides the dimensions of the test data, while y_test.shape indicates the dimensions of the test labels.\n",
    "   - This ensures that the test data and labels are also aligned correctly and confirms that both datasets are properly prepared for evaluation."
   ]
  },
  {
   "cell_type": "code",
   "execution_count": 103,
   "id": "1e7b7d7c-e06e-4c6f-ada1-df72c78b2a1d",
   "metadata": {},
   "outputs": [
    {
     "name": "stdout",
     "output_type": "stream",
     "text": [
      "THe number of classes in this dataset are: 10\n"
     ]
    }
   ],
   "source": [
    "from tensorflow.keras.utils import to_categorical\n",
    " #one hot encode outputs\n",
    "y_train=to_categorical(y_train)\n",
    "y_test=to_categorical(y_test)\n",
    " #no. of classes\n",
    "num_classes=y_test.shape[1]\n",
    "print('THe number of classes in this dataset are:',num_classes)"
   ]
  },
  {
   "cell_type": "markdown",
   "id": "c2893c09-8563-4a34-86a8-73493db005cd",
   "metadata": {},
   "source": [
    "1. from tensorflow.keras.utils import to_categorical:\n",
    "   - This line imports the to_categorical function from TensorFlow's Keras utilities. This function is used for converting class labels to a one-hot encoded format, which is a common requirement for multi-class classification problems.\n",
    "\n",
    "2. y_train = to_categorical(y_train):\n",
    "   - This line applies one-hot encoding to the y_train array. \n",
    "   - Each label in y_train is transformed into a binary array where the index corresponding to the class is set to 1, and all other indices are set to 0. \n",
    "   - For example, if a label is 2 in a 5-class problem, it will be converted to [0, 0, 1, 0, 0].\n",
    "\n",
    "3. y_test = to_categorical(y_test):\n",
    "   - Similarly, this line applies one-hot encoding to the y_test array, converting the test labels into the same format as the training labels.\n",
    "\n",
    "4. num_classes = y_test.shape[1]:\n",
    "   - This line determines the number of classes in the dataset by checking the second dimension of the y_test array after one-hot encoding. \n",
    "   - The shape of y_test will now reflect the number of samples by the number of classes (e.g., if there are 5 classes, y_test.shape will be (number_of_samples, 5)).\n",
    "\n",
    "5. print('The number of classes in this dataset are:', num_classes):\n",
    "   - This line prints out the total number of classes identified in the dataset, providing a useful summary of the classification problem being addressed."
   ]
  },
  {
   "cell_type": "code",
   "execution_count": 104,
   "id": "cb94f5d7-0872-47da-b7c1-009daaa8e215",
   "metadata": {},
   "outputs": [],
   "source": [
    "from tensorflow.keras.utils import to_categorical"
   ]
  },
  {
   "cell_type": "markdown",
   "id": "f13d0098-5cd3-4aad-9aec-4fd7fbc772c5",
   "metadata": {},
   "source": [
    "- Purpose: The `to_categorical` function is used to convert class labels (which are typically integers representing the class of each sample) into a one-hot encoded format. One-hot encoding is a common technique in machine learning, especially for multi-class classification problems.  \n",
    "- Functionality: For example, if you have labels like `[0, 1, 2]` for a dataset with three classes, `to_categorical` will transform these labels into a format like `[[1, 0, 0], [0, 1, 0], [0, 0, 1]]`. Each label is represented as a binary vector where only the index corresponding to the class is set to 1, and all other indices are set to 0.  \n",
    "- Usage: This transformation is essential when training neural networks, as many loss functions (such as categorical cross-entropy) expect the target labels to be in one-hot encoded format. "
   ]
  },
  {
   "cell_type": "code",
   "execution_count": 105,
   "id": "ec2e6cb1-8fff-4d64-bef1-1b4d7e3872b8",
   "metadata": {},
   "outputs": [],
   "source": [
    "from tensorflow.keras.models import Sequential"
   ]
  },
  {
   "cell_type": "markdown",
   "id": "bd6bd1b4-963d-4f98-bac5-d9367e849b24",
   "metadata": {},
   "source": [
    "  \n",
    "- Purpose: The `Sequential` class is used to create a linear stack of layers for building a neural network model. It is one of the simplest ways to define a model in Keras, allowing you to add layers sequentially, where the output of one layer becomes the input for the next.  \n",
    "- Functionality: When using `Sequential`, you can easily build models by adding layers one at a time using the `add()` method. For example, you might start with an input layer, followed by several hidden layers, and finish with an output layer.  \n",
    "- Usage: This class is particularly useful for straightforward architectures where each layer has a single input and output, such as feedforward neural networks and convolutional networks. However, for more complex architectures (like those involving multiple inputs, outputs, or shared layers), you might use the more flexible `Model` class instead.\n",
    "\n",
    "Overall, this import is a crucial step for defining and constructing a neural network model in Keras, facilitating the building of the architecture you need for your specific task."
   ]
  },
  {
   "cell_type": "code",
   "execution_count": 106,
   "id": "c858f247-08a4-42b8-94c8-817664f9f70c",
   "metadata": {},
   "outputs": [],
   "source": [
    "from tensorflow.keras.layers import Conv2D, MaxPooling2D, Flatten, Dense, Dropout"
   ]
  },
  {
   "cell_type": "markdown",
   "id": "7d8530fc-01b2-49a8-80b0-0d2bcfaae22e",
   "metadata": {},
   "source": [
    "1. `Conv2D`:\n",
    "   - This layer is used for applying a 2D convolution operation to the input, which is particularly useful for processing image data.\n",
    "   - It helps extract features from images by convolving filters (kernels) across the input data. Each filter learns to recognize specific patterns or features (like edges, textures, etc.).\n",
    "   - Typically, you specify the number of filters, the kernel size, the activation function, and other parameters.\n",
    "\n",
    "2. `MaxPooling2D`:\n",
    "   - This layer performs max pooling, which down-samples the input by taking the maximum value in a specified window (pooling region) for each patch of the input.\n",
    "   - It reduces the spatial dimensions (height and width) of the input, helping to decrease the computational load and extract dominant features while maintaining spatial hierarchy.\n",
    "\n",
    "3. `Flatten`:\n",
    "   - This layer flattens the input, converting it from a multi-dimensional tensor into a one-dimensional vector.\n",
    "   - It is typically used before fully connected (Dense) layers, allowing the output of the convolutional layers (which may be 2D) to be fed into these fully connected layers.\n",
    "\n",
    "4. `Dense`:\n",
    "   - This layer is a fully connected layer where each neuron is connected to every neuron in the previous layer.\n",
    "   - It is often used in the final layers of the network to produce the output (like class scores for classification tasks).\n",
    "   - You can specify the number of neurons and the activation function (like ReLU or softmax).\n",
    "\n",
    "5. `Dropout`:\n",
    "   - This layer is used for regularization during training to prevent overfitting.\n",
    "   - It randomly sets a fraction of the input units to 0 at each update during training time, which helps the model generalize better to unseen data.\n",
    "   - You can specify the dropout rate (the fraction of inputs to drop).\n"
   ]
  },
  {
   "cell_type": "code",
   "execution_count": 107,
   "id": "4018d42e-ebad-4dc0-9452-a437491b6ac3",
   "metadata": {},
   "outputs": [],
   "source": [
    "from tensorflow.keras.optimizers import Adam"
   ]
  },
  {
   "cell_type": "markdown",
   "id": "6a800648-8c43-4b1a-af69-a86e55832cd5",
   "metadata": {},
   "source": [
    "\n",
    "- Purpose: The Adam optimizer is a popular optimization algorithm used for training deep learning models. It combines the advantages of two other optimization algorithms: AdaGrad and RMSProp.\n",
    "  \n",
    "- Functionality: \n",
    "  - Adam maintains a learning rate for each parameter and adjusts it based on the first and second moments of the gradients (mean and uncentered variance). This allows it to adapt the learning rates dynamically during training, which can lead to faster convergence and better performance.\n",
    "  - It also includes momentum, which helps accelerate gradients in the right direction and smooths out the optimization path.\n",
    "\n",
    "- Usage: Adam is often the default choice for many types of neural networks due to its effectiveness and ease of use. You can specify hyperparameters such as the learning rate, beta values (for the moments), and epsilon (to prevent division by zero).\n",
    "\n",
    "Overall, importing the `Adam` optimizer is a crucial step for configuring your model's training process, as it determines how the model weights are updated during backpropagation."
   ]
  },
  {
   "cell_type": "code",
   "execution_count": 108,
   "id": "af0a5c89-fb84-4abf-8d86-736a7f81cea6",
   "metadata": {},
   "outputs": [],
   "source": [
    "from tensorflow.keras.models import Sequential"
   ]
  },
  {
   "cell_type": "markdown",
   "id": "2e4ad683-5354-4792-a45b-ac5e6e0911a6",
   "metadata": {},
   "source": [
    "- Purpose: The `Sequential` class is used to create a linear stack of layers for building a neural network model. It provides a straightforward way to construct models where each layer has exactly one input tensor and one output tensor.\n",
    "\n",
    "- Functionality:\n",
    "  - With the `Sequential` model, you can easily add layers one at a time using the `add()` method. This makes it simple to build architectures such as feedforward neural networks, convolutional neural networks (CNNs), and more.\n",
    "  - You can start with an input layer, add several hidden layers (like convolutional and pooling layers), and finish with an output layer (like a Dense layer).\n",
    "\n",
    "- Usage: The `Sequential` class is particularly useful for simple architectures, where the flow of data is linear from one layer to the next. However, for more complex architectures, such as those involving multiple inputs or outputs, you might use the more flexible Keras `Model` class.\n"
   ]
  },
  {
   "cell_type": "code",
   "execution_count": 109,
   "id": "eb81781d-e12c-44d5-908b-c23ca64564c1",
   "metadata": {},
   "outputs": [],
   "source": [
    "from tensorflow.keras.layers import Conv1D, MaxPooling1D, Flatten, Dense, Dropout"
   ]
  },
  {
   "cell_type": "markdown",
   "id": "42b3bbe9-6165-4dc2-bc4b-ef494e0a7fbc",
   "metadata": {},
   "source": [
    "This line imports several layer classes from TensorFlow's Keras layers module, which are essential for building one-dimensional convolutional neural networks (1D CNNs). Here’s a brief overview of each imported layer:\n",
    "\n",
    "1. `Conv1D`:\n",
    "   - This layer applies a 1D convolution operation to the input data, making it suitable for processing sequential data, such as time series or sequences of words.\n",
    "   - It uses filters (kernels) that slide across the input data to extract features. Each filter learns to recognize specific patterns in the input sequences.\n",
    "\n",
    "2. `MaxPooling1D`:\n",
    "   - This layer performs max pooling on the input data to down-sample it.\n",
    "   - It reduces the dimensionality by taking the maximum value from specified regions (pooling windows) along the input sequence. This helps retain the most significant features while decreasing the amount of data and computational load.\n",
    "\n",
    "3. `Flatten`:\n",
    "   - This layer converts the multi-dimensional output from the previous layers into a one-dimensional vector.\n",
    "   - It is typically used before fully connected (Dense) layers, allowing the feature maps generated by convolutional layers to be fed into the Dense layers for classification.\n",
    "\n",
    "4. `Dense`:\n",
    "   - This layer is a fully connected layer where every neuron is connected to every neuron in the previous layer.\n",
    "   - It is often used in the final layers of the network to produce output, such as class scores in classification tasks. You can specify the number of neurons and the activation function (like ReLU or softmax).\n",
    "\n",
    "5. `Dropout`:\n",
    "   - This layer is used to prevent overfitting during training by randomly setting a fraction of the input units to zero at each update.\n",
    "   - This helps the model generalize better by reducing its dependency on specific neurons and forcing it to learn redundant representations.\n"
   ]
  },
  {
   "cell_type": "code",
   "execution_count": 110,
   "id": "635d1f21-cc27-4aaf-9cd8-e5db10a0ecf9",
   "metadata": {},
   "outputs": [],
   "source": [
    "def cnn_model():\n",
    "    model = Sequential()\n",
    "    \n",
    "    # First convolutional layer\n",
    "    model.add(Conv1D(32, kernel_size=3, activation='relu', input_shape=(1024, 1)))  # Adjust input_shape as needed\n",
    "    model.add(MaxPooling1D(pool_size=2))\n",
    "    \n",
    "    # Second convolutional layer\n",
    "    model.add(Conv1D(64, kernel_size=3, activation='relu'))\n",
    "    model.add(MaxPooling1D(pool_size=2))\n",
    "    \n",
    "    # Third convolutional layer\n",
    "    model.add(Conv1D(128, kernel_size=3, activation='relu'))\n",
    "    model.add(MaxPooling1D(pool_size=2))\n",
    "    \n",
    "    # Flatten the output for the dense layers\n",
    "    model.add(Flatten())\n",
    "    \n",
    "    # Fully connected layer\n",
    "    model.add(Dense(128, activation='relu'))\n",
    "    model.add(Dropout(0.5))  # Dropout for regularization\n",
    "    \n",
    "    # Output layer (adjust units based on the number of classes)\n",
    "    model.add(Dense(10, activation='softmax'))  # Assuming 10 classes for classification\n",
    "    \n",
    "    return model\n"
   ]
  },
  {
   "cell_type": "markdown",
   "id": "5cf8b52f-7313-4bb3-9eb4-61dc7f8e9747",
   "metadata": {},
   "source": [
    "\n",
    "\n",
    "1. Function Definition: \n",
    "   - The `cnn_model()` function defines a convolutional neural network (CNN) architecture using the Sequential API from Keras. \n",
    "\n",
    "2. Creating the Model:\n",
    "   - `model = Sequential()`: Initializes an empty sequential model.\n",
    "\n",
    "3. First Convolutional Layer:\n",
    "   - `model.add(Conv1D(32, kernel_size=3, activation='relu', input_shape=(1024, 1)))`: \n",
    "     - Adds a 1D convolutional layer with 32 filters and a kernel size of 3. \n",
    "     - The activation function is ReLU (Rectified Linear Unit).\n",
    "     - `input_shape=(1024, 1)` indicates that the input sequences have a length of 1024 with 1 feature (e.g., grayscale images or single-channel time series).\n",
    "   - `model.add(MaxPooling1D(pool_size=2))`: Adds a max pooling layer to down-sample the output by taking the maximum value in each pool of size 2.\n",
    "\n",
    "4. Second Convolutional Layer:\n",
    "   - `model.add(Conv1D(64, kernel_size=3, activation='relu'))`: Adds a second convolutional layer with 64 filters.\n",
    "   - `model.add(MaxPooling1D(pool_size=2))`: Adds another max pooling layer.\n",
    "\n",
    "5. Third Convolutional Layer:\n",
    "   - `model.add(Conv1D(128, kernel_size=3, activation='relu'))`: Adds a third convolutional layer with 128 filters.\n",
    "   - `model.add(MaxPooling1D(pool_size=2))`: Adds a third max pooling layer.\n",
    "\n",
    "6. Flattening:\n",
    "   - `model.add(Flatten())`: Flattens the 3D output of the last convolutional layer into a 1D vector to prepare it for the fully connected layers.\n",
    "\n",
    "7. Fully Connected Layer:\n",
    "   - `model.add(Dense(128, activation='relu'))`: Adds a fully connected (dense) layer with 128 neurons and ReLU activation.\n",
    "   - `model.add(Dropout(0.5))`: Adds a dropout layer with a dropout rate of 0.5 to reduce overfitting.\n",
    "\n",
    "8. Output Layer:\n",
    "   - `model.add(Dense(10, activation='softmax'))`: Adds the output layer with 10 neurons (assuming 10 classes for classification) and softmax activation. This layer outputs the probabilities of each class.\n",
    "\n",
    "9. Return Model:\n",
    "   - The function returns the constructed model, which can then be compiled and trained on the dataset.\n"
   ]
  },
  {
   "cell_type": "code",
   "execution_count": 111,
   "id": "0614f724-6bd8-4f7a-b485-dd967dad736c",
   "metadata": {},
   "outputs": [],
   "source": [
    "model=cnn_model()"
   ]
  },
  {
   "cell_type": "markdown",
   "id": "7dcbea76-1c69-4f71-b591-125060871a08",
   "metadata": {},
   "source": [
    "The line `model = cnn_model()` calls the previously defined `cnn_model()` function to create a convolutional neural network (CNN) architecture. This function initializes a Sequential model and adds multiple layers, including convolutional, pooling, flattening, and fully connected layers. The resulting model structure is designed to process one-dimensional data effectively. The model is then assigned to the variable `model`, making it ready for compilation, training, and evaluation on a dataset. This step is crucial for setting up the deep learning framework needed for further tasks."
   ]
  },
  {
   "cell_type": "code",
   "execution_count": 112,
   "id": "f159de06-dfde-43a3-b893-fbfe8341dcdf",
   "metadata": {},
   "outputs": [],
   "source": [
    "# Create the model\n",
    "model = cnn_model()\n",
    "\n",
    "# Compile the model with the correct learning_rate argument\n",
    "model.compile(optimizer=Adam(learning_rate=1e-3), \n",
    "              loss='categorical_crossentropy', \n",
    "              metrics=['accuracy'])\n"
   ]
  },
  {
   "cell_type": "markdown",
   "id": "2c92f64c-c45b-457e-80ec-00acf065cfd2",
   "metadata": {},
   "source": [
    "1. Creating the Model:\n",
    "   - `model = cnn_model()`: This line calls the `cnn_model()` function to create a new convolutional neural network (CNN) architecture, which is then assigned to the variable `model`.\n",
    "\n",
    "2. Compiling the Model:\n",
    "   - `model.compile(...)`: This line configures the model for training by specifying the optimizer, loss function, and metrics to evaluate.\n",
    "   - Optimizer: `optimizer=Adam(learning_rate=1e-3)`: The Adam optimizer is instantiated with a learning rate of \\(1 \\times 10^{-3}\\), which determines how quickly the model updates its weights during training.\n",
    "   - Loss Function: `loss='categorical_crossentropy'`: This specifies the loss function used to evaluate the model's performance; categorical cross-entropy is suitable for multi-class classification problems where the target labels are one-hot encoded.\n",
    "   - Metrics: `metrics=['accuracy']`: This sets the metric to track during training and evaluation; in this case, it tracks the accuracy of the model's predictions.\n"
   ]
  },
  {
   "cell_type": "code",
   "execution_count": null,
   "id": "52e41084-11b6-4c34-98ee-36a0b656b83f",
   "metadata": {},
   "outputs": [
    {
     "name": "stdout",
     "output_type": "stream",
     "text": [
      "Epoch 1/5\n",
      "\u001b[1m1313/1313\u001b[0m \u001b[32m━━━━━━━━━━━━━━━━━━━━\u001b[0m\u001b[37m\u001b[0m \u001b[1m75s\u001b[0m 56ms/step - accuracy: 0.2856 - loss: 1.9660 - val_accuracy: 0.6239 - val_loss: 1.2084\n",
      "Epoch 2/5\n",
      "\u001b[1m1313/1313\u001b[0m \u001b[32m━━━━━━━━━━━━━━━━━━━━\u001b[0m\u001b[37m\u001b[0m \u001b[1m74s\u001b[0m 57ms/step - accuracy: 0.5420 - loss: 1.3619 - val_accuracy: 0.6639 - val_loss: 1.0712\n",
      "Epoch 3/5\n",
      "\u001b[1m1313/1313\u001b[0m \u001b[32m━━━━━━━━━━━━━━━━━━━━\u001b[0m\u001b[37m\u001b[0m \u001b[1m83s\u001b[0m 63ms/step - accuracy: 0.5793 - loss: 1.2503 - val_accuracy: 0.6831 - val_loss: 1.0049\n",
      "Epoch 4/5\n",
      "\u001b[1m1313/1313\u001b[0m \u001b[32m━━━━━━━━━━━━━━━━━━━━\u001b[0m\u001b[37m\u001b[0m \u001b[1m130s\u001b[0m 54ms/step - accuracy: 0.5952 - loss: 1.1841 - val_accuracy: 0.6839 - val_loss: 1.0010\n",
      "Epoch 5/5\n",
      "\u001b[1m1173/1313\u001b[0m \u001b[32m━━━━━━━━━━━━━━━━━\u001b[0m\u001b[37m━━━\u001b[0m \u001b[1m6s\u001b[0m 46ms/step - accuracy: 0.6078 - loss: 1.1553"
     ]
    }
   ],
   "source": [
    "# Fit the model\n",
    "training_history = model.fit(X_train, y_train, \n",
    "                              validation_data=(X_test, y_test), \n",
    "                              epochs=5,       # Adjust the number of epochs as needed\n",
    "                              batch_size=32,   # Adjust the batch size as needed\n",
    "                              verbose=1)      # You can set verbose=2 for more detailed output\n"
   ]
  },
  {
   "cell_type": "markdown",
   "id": "226dd8e6-c711-41ef-8ddd-6f535e08190a",
   "metadata": {},
   "source": [
    "1. Fitting the Model:\n",
    "   - `training_history = model.fit(...)`: This line trains the previously compiled CNN model using the training data (`X_train` and `y_train`) and stores the training history in the variable `training_history`.\n",
    "\n",
    "2. Training Data and Validation Data:\n",
    "   - `X_train, y_train`: These are the input features and labels for training.\n",
    "   - `validation_data=(X_test, y_test)`: This argument specifies the validation dataset used to evaluate the model's performance after each epoch. The validation data helps monitor overfitting during training.\n",
    "\n",
    "3. Epochs:\n",
    "   - `epochs=5`: This sets the number of complete passes through the training dataset. You can adjust this value depending on how well the model is learning and if it's converging.\n",
    "\n",
    "4. Batch Size:\n",
    "   - `batch_size=32`: This determines the number of samples processed before the model's weights are updated. A smaller batch size can provide more updates per epoch, while a larger batch size may lead to faster computation but less frequent updates.\n",
    "\n",
    "5. Verbose Level:\n",
    "   - `verbose=1`: This controls the output of the training process. Setting it to 1 provides a progress bar and logs the loss and accuracy for each epoch. If set to 2, it will provide more detailed output, displaying the metrics for each epoch without a progress bar."
   ]
  },
  {
   "cell_type": "code",
   "execution_count": null,
   "id": "63aa1658-cb04-4d89-88ce-be3a9a05a894",
   "metadata": {},
   "outputs": [],
   "source": [
    "scores=model.evaluate(X_test,y_test,verbose=0)\n",
    " print('Loss:',scores[0])\n",
    " print('Accuracy:',scores[1])"
   ]
  },
  {
   "cell_type": "markdown",
   "id": "597f498a-42ae-4ea7-a64f-3763a1dd86b6",
   "metadata": {},
   "source": [
    "1. Evaluating the Model:\n",
    "   - `scores = model.evaluate(X_test, y_test, verbose=0)`: This line evaluates the trained model on the test dataset (`X_test` and `y_test`). The `evaluate` method returns the loss value and any additional metrics specified during model compilation.\n",
    "   - The `verbose=0` argument suppresses output during evaluation, so the function runs quietly without displaying progress.\n",
    "\n",
    "2. Loss and Accuracy:\n",
    "   - `scores[0]`: This retrieves the first value from the `scores` list, which corresponds to the loss of the model on the test data. The loss indicates how well the model's predictions match the actual labels, with lower values indicating better performance.\n",
    "   - `scores[1]`: This retrieves the second value from the `scores` list, which represents the accuracy of the model on the test data. Accuracy measures the proportion of correctly predicted instances out of the total instances.\n",
    "\n",
    "3. Printing Results:\n",
    "   - `print('Loss:', scores[0])`: This line prints the loss value to the console.\n",
    "   - `print('Accuracy:', scores[1])`: This line prints the accuracy value to the console.\n",
    "\n",
    "Overall, this code evaluates the performance of the trained model on unseen test data, providing important metrics (loss and accuracy) that indicate how well the model generalizes to new data."
   ]
  },
  {
   "cell_type": "code",
   "execution_count": null,
   "id": "e5f374bc-d540-43e4-bbf2-19af12089c86",
   "metadata": {},
   "outputs": [],
   "source": [
    " accuracy=training_history.history['accuracy']\n",
    " val_accuracy=training_history.history['val_accuracy']\n",
    " loss=training_history.history['loss']\n",
    " val_loss=training_history.history['val_loss']\n",
    " epochs=range(len(accuracy))\n",
    " plt.plot(epochs,accuracy,label='training accuracy')\n",
    " plt.plot(epochs,val_accuracy,label='validation accuracy')\n",
    " plt.title('Training and validation accuracy')\n",
    " plt.legend(loc='lower right')\n",
    " plt.figure()\n",
    " plt.plot(epochs,loss,label='training loss')\n",
    " plt.plot(epochs,val_loss,label='validation loss')\n",
    " plt.legend(loc='upper right')\n",
    " plt.title('Training and validation loss')"
   ]
  },
  {
   "cell_type": "markdown",
   "id": "791748d5-fea9-47e0-9c0a-1a25009dd748",
   "metadata": {},
   "source": [
    "1. Extracting History Data:\n",
    "   - `accuracy = training_history.history['accuracy']`: This line extracts the training accuracy values from the training history returned by the `fit` method.\n",
    "   - `val_accuracy = training_history.history['val_accuracy']`: This extracts the validation accuracy values, which show how the model performs on the validation set after each epoch.\n",
    "   - `loss = training_history.history['loss']`: This retrieves the training loss values.\n",
    "   - `val_loss = training_history.history['val_loss']`: This retrieves the validation loss values.\n",
    "\n",
    "2. Defining Epochs:\n",
    "   - `epochs = range(len(accuracy))`: This creates a range object representing the number of epochs based on the length of the accuracy list. It will be used for the x-axis of the plots.\n",
    "\n",
    "3. Plotting Accuracy:\n",
    "   - `plt.plot(epochs, accuracy, label='training accuracy')`: This plots the training accuracy against the epochs.\n",
    "   - `plt.plot(epochs, val_accuracy, label='validation accuracy')`: This plots the validation accuracy against the epochs.\n",
    "   - `plt.title('Training and Validation Accuracy')`: This sets the title for the accuracy plot.\n",
    "   - `plt.legend(loc='lower right')`: This adds a legend to the plot to identify the training and validation accuracy lines.\n",
    "\n",
    "4. Creating a New Figure for Loss:\n",
    "   - `plt.figure()`: This creates a new figure for plotting the loss values, separating it from the accuracy plot.\n",
    "\n",
    "5. Plotting Loss:\n",
    "   - `plt.plot(epochs, loss, label='training loss')`: This plots the training loss against the epochs.\n",
    "   - `plt.plot(epochs, val_loss, label='validation loss')`: This plots the validation loss against the epochs.\n",
    "   - `plt.legend(loc='upper right')`: This adds a legend to the loss plot.\n",
    "   - `plt.title('Training and Validation Loss')`: This sets the title for the loss plot."
   ]
  },
  {
   "cell_type": "code",
   "execution_count": null,
   "id": "ef682449-57f6-4823-a278-d4c6d427f323",
   "metadata": {},
   "outputs": [],
   "source": []
  }
 ],
 "metadata": {
  "kernelspec": {
   "display_name": "Python 3 (ipykernel)",
   "language": "python",
   "name": "python3"
  },
  "language_info": {
   "codemirror_mode": {
    "name": "ipython",
    "version": 3
   },
   "file_extension": ".py",
   "mimetype": "text/x-python",
   "name": "python",
   "nbconvert_exporter": "python",
   "pygments_lexer": "ipython3",
   "version": "3.10.11"
  }
 },
 "nbformat": 4,
 "nbformat_minor": 5
}
